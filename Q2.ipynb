{
 "cells": [
  {
   "attachments": {},
   "cell_type": "markdown",
   "metadata": {},
   "source": [
    "# Q2. Write an algorithm for tying your shoes\n",
    "\n",
    "\n",
    "\n",
    "1. Take one lace in each hand and cross them over each other, with the right lace over the left.\n",
    "2. Take the end of the right lace and tuck it under the left lace. This is the basic knot.\n",
    "3. Make a loop with the left lace by taking the lace near the end and folding it toward the basic knot.\n",
    "4. Hold the loop in place with your left hand.\n",
    "5. With your right hand, take the right lace and wrap it around the loop from back to front, perpendicular to the loop.\n",
    "6. Take the end of the right lace and tuck it through the loop you just created.\n",
    "7. Hold the ends of the laces and pull them tight."
   ]
  },
  {
   "cell_type": "code",
   "execution_count": null,
   "metadata": {},
   "outputs": [],
   "source": [
    "# Assuming your shoes are already on your feet and untied to start\n",
    "\n",
    "def tie_shoes():\n",
    "    # Step 1: define the location of each lace relative to the shoe, then cross laces\n",
    "    right_lace = \"right\"\n",
    "    left_lace = \"left\"\n",
    "    right_lace_over_left = True\n",
    "    \n",
    "    # Step 2: take the right lace and tuck it under the left lace, define new positions\n",
    "    tuck_right_lace_under_left = True\n",
    "    right_lace, left_lace = left_lace, right_lace\n",
    "    basic_knot = True\n",
    "    \n",
    "    # Step 3: define how to loop, then loop the left lace\n",
    "    near_end_of_lace = \"near end\"\n",
    "    loop = near_end_of_lace + \"_to_\" + basic_knot\n",
    "\n",
    "    left_loop = left_lace + loop\n",
    "    \n",
    "    # Step 4: define location of hand and hold the loop\n",
    "    left_hand = \"left\"\n",
    "    left_hand_grasp_loop = True\n",
    "    \n",
    "    # Step 5: define location of other hand, define wrap, wrap right lace around loop\n",
    "    right_hand = \"right\"\n",
    "    \n",
    "    front_of_loop = \"front\"\n",
    "    back_of_loop = \"back\"\n",
    "    wrap = front_of_loop + \"_to_\" + back_of_loop\n",
    "\n",
    "    wrapped_left_loop = right_lace + wrap + left_loop\n",
    "    \n",
    "    # Step 6: tuck right lace through the loop created by the wrap\n",
    "    right_lace_tucked_in_loop = True\n",
    "    \n",
    "    # Step 7: pull to tighten knot\n",
    "    pull_laces_tight = True\n"
   ]
  }
 ],
 "metadata": {
  "kernelspec": {
   "display_name": "Python 3",
   "language": "python",
   "name": "python3"
  },
  "language_info": {
   "name": "python",
   "version": "3.10.2"
  },
  "orig_nbformat": 4,
  "vscode": {
   "interpreter": {
    "hash": "c162f94018e0489db0c71872dfbb0f81bda5a411db10e73a44ff46fdbecffe2c"
   }
  }
 },
 "nbformat": 4,
 "nbformat_minor": 2
}
