{
 "cells": [
  {
   "attachments": {},
   "cell_type": "markdown",
   "metadata": {},
   "source": [
    "# Q3. If you had to tell a story with our Cannabis data what would it be? \n",
    "\n",
    "(Ie. the product price decrease across categories (flower, concentrates, edibles) from Jan 1 – Aug 1, 2022 was caused by an oversaturation that is evident in the increase of total SKU count on the market.) \n",
    "\n",
    "If you were to get your hands on cannabis data over the past 6 months, what kind of story would you be able to tell with what evidence? \n",
    "All of this can be made up but make sure you back up your story with “fake” data that you would have handy. "
   ]
  },
  {
   "cell_type": "code",
   "execution_count": 33,
   "metadata": {},
   "outputs": [],
   "source": [
    "#import libraries\n",
    "import pandas as pd\n",
    "import datetime\n",
    "import matplotlib.pyplot as plt\n",
    "import seaborn as sns\n",
    "import numpy as np"
   ]
  },
  {
   "attachments": {},
   "cell_type": "markdown",
   "metadata": {},
   "source": [
    "Data: https://open.canada.ca/data/en/dataset/1f8d838e-f738-4549-8019-edfc0d931cd7\n",
    "\n",
    "https://www.canada.ca/en/health-canada/services/drugs-medication/cannabis/research-data/market.html"
   ]
  },
  {
   "cell_type": "code",
   "execution_count": 6,
   "metadata": {},
   "outputs": [
    {
     "data": {
      "text/html": [
       "<div>\n",
       "<style scoped>\n",
       "    .dataframe tbody tr th:only-of-type {\n",
       "        vertical-align: middle;\n",
       "    }\n",
       "\n",
       "    .dataframe tbody tr th {\n",
       "        vertical-align: top;\n",
       "    }\n",
       "\n",
       "    .dataframe thead th {\n",
       "        text-align: right;\n",
       "    }\n",
       "</style>\n",
       "<table border=\"1\" class=\"dataframe\">\n",
       "  <thead>\n",
       "    <tr style=\"text-align: right;\">\n",
       "      <th></th>\n",
       "      <th>year_-_month</th>\n",
       "      <th>product_type</th>\n",
       "      <th>unpackaged_production_units</th>\n",
       "      <th>unpackaged_inventory_units</th>\n",
       "      <th>packaged_production_units</th>\n",
       "      <th>packaged_inventory_units_-_federal_licence_holders</th>\n",
       "      <th>packaged_inventory_units_-_provincial_distributors_and_retailers</th>\n",
       "      <th>sales_units_-_medical</th>\n",
       "      <th>sales_units_-_non-medical</th>\n",
       "      <th>unpackaged_production_kilograms</th>\n",
       "      <th>unpackaged_inventory_kilograms</th>\n",
       "      <th>packaged_production_kilograms</th>\n",
       "      <th>packaged_inventory_kilograms_-_federal_licence_holders</th>\n",
       "      <th>packaged_inventory_kilograms_-_provincial_distributors_and_retailers</th>\n",
       "      <th>sales_kilograms_-_medical</th>\n",
       "      <th>sales_kilograms_-_non-medical</th>\n",
       "    </tr>\n",
       "  </thead>\n",
       "  <tbody>\n",
       "    <tr>\n",
       "      <th>0</th>\n",
       "      <td>2018-10</td>\n",
       "      <td>dried cannabis / cannabis séché</td>\n",
       "      <td>n/a / n/d</td>\n",
       "      <td>n/a / n/d</td>\n",
       "      <td>n/a / n/d</td>\n",
       "      <td>n/a / n/d</td>\n",
       "      <td>n/a / n/d</td>\n",
       "      <td>n/a / n/d</td>\n",
       "      <td>n/a / n/d</td>\n",
       "      <td>41677</td>\n",
       "      <td>96822</td>\n",
       "      <td>13830</td>\n",
       "      <td>12310</td>\n",
       "      <td>6171</td>\n",
       "      <td>1941</td>\n",
       "      <td>4405</td>\n",
       "    </tr>\n",
       "    <tr>\n",
       "      <th>1</th>\n",
       "      <td>2018-11</td>\n",
       "      <td>dried cannabis / cannabis séché</td>\n",
       "      <td>n/a / n/d</td>\n",
       "      <td>n/a / n/d</td>\n",
       "      <td>n/a / n/d</td>\n",
       "      <td>n/a / n/d</td>\n",
       "      <td>n/a / n/d</td>\n",
       "      <td>n/a / n/d</td>\n",
       "      <td>n/a / n/d</td>\n",
       "      <td>34893</td>\n",
       "      <td>99007</td>\n",
       "      <td>11117</td>\n",
       "      <td>10410</td>\n",
       "      <td>8314</td>\n",
       "      <td>1795</td>\n",
       "      <td>5490</td>\n",
       "    </tr>\n",
       "    <tr>\n",
       "      <th>2</th>\n",
       "      <td>2018-12</td>\n",
       "      <td>dried cannabis / cannabis séché</td>\n",
       "      <td>n/a / n/d</td>\n",
       "      <td>n/a / n/d</td>\n",
       "      <td>n/a / n/d</td>\n",
       "      <td>n/a / n/d</td>\n",
       "      <td>n/a / n/d</td>\n",
       "      <td>n/a / n/d</td>\n",
       "      <td>n/a / n/d</td>\n",
       "      <td>31791</td>\n",
       "      <td>111693</td>\n",
       "      <td>9597</td>\n",
       "      <td>8789</td>\n",
       "      <td>10151</td>\n",
       "      <td>1816</td>\n",
       "      <td>5784</td>\n",
       "    </tr>\n",
       "    <tr>\n",
       "      <th>3</th>\n",
       "      <td>2019-01</td>\n",
       "      <td>dried cannabis / cannabis séché</td>\n",
       "      <td>n/a / n/d</td>\n",
       "      <td>n/a / n/d</td>\n",
       "      <td>n/a / n/d</td>\n",
       "      <td>n/a / n/d</td>\n",
       "      <td>n/a / n/d</td>\n",
       "      <td>n/a / n/d</td>\n",
       "      <td>n/a / n/d</td>\n",
       "      <td>43419</td>\n",
       "      <td>117486</td>\n",
       "      <td>9703</td>\n",
       "      <td>10303</td>\n",
       "      <td>10016</td>\n",
       "      <td>1779</td>\n",
       "      <td>5528</td>\n",
       "    </tr>\n",
       "    <tr>\n",
       "      <th>4</th>\n",
       "      <td>2019-02</td>\n",
       "      <td>dried cannabis / cannabis séché</td>\n",
       "      <td>n/a / n/d</td>\n",
       "      <td>n/a / n/d</td>\n",
       "      <td>n/a / n/d</td>\n",
       "      <td>n/a / n/d</td>\n",
       "      <td>n/a / n/d</td>\n",
       "      <td>n/a / n/d</td>\n",
       "      <td>n/a / n/d</td>\n",
       "      <td>37849</td>\n",
       "      <td>120784</td>\n",
       "      <td>11575</td>\n",
       "      <td>11484</td>\n",
       "      <td>11670</td>\n",
       "      <td>1698</td>\n",
       "      <td>4985</td>\n",
       "    </tr>\n",
       "  </tbody>\n",
       "</table>\n",
       "</div>"
      ],
      "text/plain": [
       "  year_-_month                     product_type unpackaged_production_units  \\\n",
       "0     2018-10   dried cannabis / cannabis séché                   n/a / n/d   \n",
       "1     2018-11   dried cannabis / cannabis séché                   n/a / n/d   \n",
       "2     2018-12   dried cannabis / cannabis séché                   n/a / n/d   \n",
       "3     2019-01   dried cannabis / cannabis séché                   n/a / n/d   \n",
       "4     2019-02   dried cannabis / cannabis séché                   n/a / n/d   \n",
       "\n",
       "  unpackaged_inventory_units packaged_production_units  \\\n",
       "0                  n/a / n/d                 n/a / n/d   \n",
       "1                  n/a / n/d                 n/a / n/d   \n",
       "2                  n/a / n/d                 n/a / n/d   \n",
       "3                  n/a / n/d                 n/a / n/d   \n",
       "4                  n/a / n/d                 n/a / n/d   \n",
       "\n",
       "  packaged_inventory_units_-_federal_licence_holders  \\\n",
       "0                                          n/a / n/d   \n",
       "1                                          n/a / n/d   \n",
       "2                                          n/a / n/d   \n",
       "3                                          n/a / n/d   \n",
       "4                                          n/a / n/d   \n",
       "\n",
       "  packaged_inventory_units_-_provincial_distributors_and_retailers  \\\n",
       "0                                          n/a / n/d                 \n",
       "1                                          n/a / n/d                 \n",
       "2                                          n/a / n/d                 \n",
       "3                                          n/a / n/d                 \n",
       "4                                          n/a / n/d                 \n",
       "\n",
       "  sales_units_-_medical sales_units_-_non-medical  \\\n",
       "0             n/a / n/d                 n/a / n/d   \n",
       "1             n/a / n/d                 n/a / n/d   \n",
       "2             n/a / n/d                 n/a / n/d   \n",
       "3             n/a / n/d                 n/a / n/d   \n",
       "4             n/a / n/d                 n/a / n/d   \n",
       "\n",
       "  unpackaged_production_kilograms unpackaged_inventory_kilograms  \\\n",
       "0                           41677                          96822   \n",
       "1                           34893                          99007   \n",
       "2                           31791                         111693   \n",
       "3                           43419                         117486   \n",
       "4                           37849                         120784   \n",
       "\n",
       "  packaged_production_kilograms  \\\n",
       "0                         13830   \n",
       "1                         11117   \n",
       "2                          9597   \n",
       "3                          9703   \n",
       "4                         11575   \n",
       "\n",
       "  packaged_inventory_kilograms_-_federal_licence_holders  \\\n",
       "0                                              12310       \n",
       "1                                              10410       \n",
       "2                                               8789       \n",
       "3                                              10303       \n",
       "4                                              11484       \n",
       "\n",
       "  packaged_inventory_kilograms_-_provincial_distributors_and_retailers  \\\n",
       "0                                               6171                     \n",
       "1                                               8314                     \n",
       "2                                              10151                     \n",
       "3                                              10016                     \n",
       "4                                              11670                     \n",
       "\n",
       "  sales_kilograms_-_medical sales_kilograms_-_non-medical  \n",
       "0                      1941                          4405  \n",
       "1                      1795                          5490  \n",
       "2                      1816                          5784  \n",
       "3                      1779                          5528  \n",
       "4                      1698                          4985  "
      ]
     },
     "execution_count": 6,
     "metadata": {},
     "output_type": "execute_result"
    }
   ],
   "source": [
    "#load data\n",
    "\n",
    "df = pd.read_csv('hc-sc_cannabis_market_data_-_inventory_and_sales_en.csv', encoding='cp1252')\n",
    "df.head()"
   ]
  },
  {
   "cell_type": "code",
   "execution_count": 10,
   "metadata": {},
   "outputs": [
    {
     "data": {
      "text/plain": [
       "(222, 16)"
      ]
     },
     "execution_count": 10,
     "metadata": {},
     "output_type": "execute_result"
    }
   ],
   "source": [
    "df.shape"
   ]
  },
  {
   "cell_type": "code",
   "execution_count": 15,
   "metadata": {},
   "outputs": [
    {
     "data": {
      "text/html": [
       "<div>\n",
       "<style scoped>\n",
       "    .dataframe tbody tr th:only-of-type {\n",
       "        vertical-align: middle;\n",
       "    }\n",
       "\n",
       "    .dataframe tbody tr th {\n",
       "        vertical-align: top;\n",
       "    }\n",
       "\n",
       "    .dataframe thead th {\n",
       "        text-align: right;\n",
       "    }\n",
       "</style>\n",
       "<table border=\"1\" class=\"dataframe\">\n",
       "  <thead>\n",
       "    <tr style=\"text-align: right;\">\n",
       "      <th></th>\n",
       "      <th>count</th>\n",
       "      <th>unique</th>\n",
       "      <th>top</th>\n",
       "      <th>freq</th>\n",
       "    </tr>\n",
       "  </thead>\n",
       "  <tbody>\n",
       "    <tr>\n",
       "      <th>year_-_month</th>\n",
       "      <td>222</td>\n",
       "      <td>42</td>\n",
       "      <td>2020-07</td>\n",
       "      <td>7</td>\n",
       "    </tr>\n",
       "    <tr>\n",
       "      <th>product_type</th>\n",
       "      <td>222</td>\n",
       "      <td>7</td>\n",
       "      <td>dried cannabis / cannabis séché</td>\n",
       "      <td>42</td>\n",
       "    </tr>\n",
       "    <tr>\n",
       "      <th>unpackaged_production_units</th>\n",
       "      <td>222</td>\n",
       "      <td>61</td>\n",
       "      <td>n/a / n/d</td>\n",
       "      <td>162</td>\n",
       "    </tr>\n",
       "    <tr>\n",
       "      <th>unpackaged_inventory_units</th>\n",
       "      <td>222</td>\n",
       "      <td>61</td>\n",
       "      <td>n/a / n/d</td>\n",
       "      <td>162</td>\n",
       "    </tr>\n",
       "    <tr>\n",
       "      <th>packaged_production_units</th>\n",
       "      <td>222</td>\n",
       "      <td>173</td>\n",
       "      <td>n/a / n/d</td>\n",
       "      <td>42</td>\n",
       "    </tr>\n",
       "    <tr>\n",
       "      <th>packaged_inventory_units_-_federal_licence_holders</th>\n",
       "      <td>222</td>\n",
       "      <td>154</td>\n",
       "      <td>n/a / n/d</td>\n",
       "      <td>42</td>\n",
       "    </tr>\n",
       "    <tr>\n",
       "      <th>packaged_inventory_units_-_provincial_distributors_and_retailers</th>\n",
       "      <td>222</td>\n",
       "      <td>152</td>\n",
       "      <td>n/a / n/d</td>\n",
       "      <td>42</td>\n",
       "    </tr>\n",
       "    <tr>\n",
       "      <th>sales_units_-_medical</th>\n",
       "      <td>222</td>\n",
       "      <td>165</td>\n",
       "      <td>n/a / n/d</td>\n",
       "      <td>42</td>\n",
       "    </tr>\n",
       "    <tr>\n",
       "      <th>sales_units_-_non-medical</th>\n",
       "      <td>222</td>\n",
       "      <td>157</td>\n",
       "      <td>n/a / n/d</td>\n",
       "      <td>42</td>\n",
       "    </tr>\n",
       "    <tr>\n",
       "      <th>unpackaged_production_kilograms</th>\n",
       "      <td>222</td>\n",
       "      <td>43</td>\n",
       "      <td>n/a / n/d</td>\n",
       "      <td>180</td>\n",
       "    </tr>\n",
       "    <tr>\n",
       "      <th>unpackaged_inventory_kilograms</th>\n",
       "      <td>222</td>\n",
       "      <td>43</td>\n",
       "      <td>n/a / n/d</td>\n",
       "      <td>180</td>\n",
       "    </tr>\n",
       "    <tr>\n",
       "      <th>packaged_production_kilograms</th>\n",
       "      <td>222</td>\n",
       "      <td>13</td>\n",
       "      <td>n/a / n/d</td>\n",
       "      <td>210</td>\n",
       "    </tr>\n",
       "    <tr>\n",
       "      <th>packaged_inventory_kilograms_-_federal_licence_holders</th>\n",
       "      <td>222</td>\n",
       "      <td>43</td>\n",
       "      <td>n/a / n/d</td>\n",
       "      <td>180</td>\n",
       "    </tr>\n",
       "    <tr>\n",
       "      <th>packaged_inventory_kilograms_-_provincial_distributors_and_retailers</th>\n",
       "      <td>222</td>\n",
       "      <td>43</td>\n",
       "      <td>n/a / n/d</td>\n",
       "      <td>180</td>\n",
       "    </tr>\n",
       "    <tr>\n",
       "      <th>sales_kilograms_-_medical</th>\n",
       "      <td>222</td>\n",
       "      <td>12</td>\n",
       "      <td>n/a / n/d</td>\n",
       "      <td>210</td>\n",
       "    </tr>\n",
       "    <tr>\n",
       "      <th>sales_kilograms_-_non-medical</th>\n",
       "      <td>222</td>\n",
       "      <td>13</td>\n",
       "      <td>n/a / n/d</td>\n",
       "      <td>210</td>\n",
       "    </tr>\n",
       "  </tbody>\n",
       "</table>\n",
       "</div>"
      ],
      "text/plain": [
       "                                                   count unique  \\\n",
       "year_-_month                                         222     42   \n",
       "product_type                                         222      7   \n",
       "unpackaged_production_units                          222     61   \n",
       "unpackaged_inventory_units                           222     61   \n",
       "packaged_production_units                            222    173   \n",
       "packaged_inventory_units_-_federal_licence_holders   222    154   \n",
       "packaged_inventory_units_-_provincial_distribut...   222    152   \n",
       "sales_units_-_medical                                222    165   \n",
       "sales_units_-_non-medical                            222    157   \n",
       "unpackaged_production_kilograms                      222     43   \n",
       "unpackaged_inventory_kilograms                       222     43   \n",
       "packaged_production_kilograms                        222     13   \n",
       "packaged_inventory_kilograms_-_federal_licence_...   222     43   \n",
       "packaged_inventory_kilograms_-_provincial_distr...   222     43   \n",
       "sales_kilograms_-_medical                            222     12   \n",
       "sales_kilograms_-_non-medical                        222     13   \n",
       "\n",
       "                                                                                top  \\\n",
       "year_-_month                                                               2020-07    \n",
       "product_type                                        dried cannabis / cannabis séché   \n",
       "unpackaged_production_units                                               n/a / n/d   \n",
       "unpackaged_inventory_units                                                n/a / n/d   \n",
       "packaged_production_units                                                 n/a / n/d   \n",
       "packaged_inventory_units_-_federal_licence_holders                        n/a / n/d   \n",
       "packaged_inventory_units_-_provincial_distribut...                        n/a / n/d   \n",
       "sales_units_-_medical                                                     n/a / n/d   \n",
       "sales_units_-_non-medical                                                 n/a / n/d   \n",
       "unpackaged_production_kilograms                                           n/a / n/d   \n",
       "unpackaged_inventory_kilograms                                            n/a / n/d   \n",
       "packaged_production_kilograms                                             n/a / n/d   \n",
       "packaged_inventory_kilograms_-_federal_licence_...                        n/a / n/d   \n",
       "packaged_inventory_kilograms_-_provincial_distr...                        n/a / n/d   \n",
       "sales_kilograms_-_medical                                                 n/a / n/d   \n",
       "sales_kilograms_-_non-medical                                             n/a / n/d   \n",
       "\n",
       "                                                   freq  \n",
       "year_-_month                                          7  \n",
       "product_type                                         42  \n",
       "unpackaged_production_units                         162  \n",
       "unpackaged_inventory_units                          162  \n",
       "packaged_production_units                            42  \n",
       "packaged_inventory_units_-_federal_licence_holders   42  \n",
       "packaged_inventory_units_-_provincial_distribut...   42  \n",
       "sales_units_-_medical                                42  \n",
       "sales_units_-_non-medical                            42  \n",
       "unpackaged_production_kilograms                     180  \n",
       "unpackaged_inventory_kilograms                      180  \n",
       "packaged_production_kilograms                       210  \n",
       "packaged_inventory_kilograms_-_federal_licence_...  180  \n",
       "packaged_inventory_kilograms_-_provincial_distr...  180  \n",
       "sales_kilograms_-_medical                           210  \n",
       "sales_kilograms_-_non-medical                       210  "
      ]
     },
     "execution_count": 15,
     "metadata": {},
     "output_type": "execute_result"
    }
   ],
   "source": [
    "df.describe().T"
   ]
  },
  {
   "cell_type": "code",
   "execution_count": 22,
   "metadata": {},
   "outputs": [
    {
     "data": {
      "text/plain": [
       "year_-_month                                                            object\n",
       "product_type                                                            object\n",
       "unpackaged_production_units                                             object\n",
       "unpackaged_inventory_units                                              object\n",
       "packaged_production_units                                               object\n",
       "packaged_inventory_units_-_federal_licence_holders                      object\n",
       "packaged_inventory_units_-_provincial_distributors_and_retailers        object\n",
       "sales_units_-_medical                                                   object\n",
       "sales_units_-_non-medical                                               object\n",
       "unpackaged_production_kilograms                                         object\n",
       "unpackaged_inventory_kilograms                                          object\n",
       "packaged_production_kilograms                                           object\n",
       "packaged_inventory_kilograms_-_federal_licence_holders                  object\n",
       "packaged_inventory_kilograms_-_provincial_distributors_and_retailers    object\n",
       "sales_kilograms_-_medical                                               object\n",
       "sales_kilograms_-_non-medical                                           object\n",
       "dtype: object"
      ]
     },
     "execution_count": 22,
     "metadata": {},
     "output_type": "execute_result"
    }
   ],
   "source": [
    "df.dtypes"
   ]
  },
  {
   "cell_type": "code",
   "execution_count": 32,
   "metadata": {},
   "outputs": [],
   "source": [
    "#features that need to be converted\n",
    "feature_list = ['unpackaged_production_units',\n",
    "       'unpackaged_inventory_units', 'packaged_production_units',\n",
    "       'packaged_inventory_units_-_federal_licence_holders',\n",
    "       'packaged_inventory_units_-_provincial_distributors_and_retailers',\n",
    "       'sales_units_-_medical', 'sales_units_-_non-medical',\n",
    "       'unpackaged_production_kilograms', 'unpackaged_inventory_kilograms',\n",
    "       'packaged_production_kilograms',\n",
    "       'packaged_inventory_kilograms_-_federal_licence_holders',\n",
    "       'packaged_inventory_kilograms_-_provincial_distributors_and_retailers',\n",
    "       'sales_kilograms_-_medical', 'sales_kilograms_-_non-medical']"
   ]
  },
  {
   "cell_type": "code",
   "execution_count": 40,
   "metadata": {},
   "outputs": [
    {
     "data": {
      "text/plain": [
       "array(['n/a\\xa0/ n/d', '2576671', '2353129', '2542479', '2747881',\n",
       "       '2318173', '2706760', '2753562', '3070596', '3194625', '2867413',\n",
       "       '2288027', '2574056', '2336037', '1965223', '2366696', '2211123',\n",
       "       '2319803', '2566764', '2584721', '2953240', '3480780', '2809211',\n",
       "       '2527133', '2535927', '2422372', '2683017', '2527553', '2296174',\n",
       "       '2422900', '2595971', '1419889', '1274336', '1470283', '1481252',\n",
       "       '1434562', '1712330', '1749090', '1647312', '1770954', '1955526',\n",
       "       '1719068', '1587402', '1693769', '1171934', '1252196', '1582537',\n",
       "       '1656371', '1780444', '1706217', '1834527', '1930978', '2417086',\n",
       "       '2326451', '2175796', '1777893', '1871755', '1988492', '1404377',\n",
       "       '1510040', '1510306'], dtype=object)"
      ]
     },
     "execution_count": 40,
     "metadata": {},
     "output_type": "execute_result"
    }
   ],
   "source": [
    "df['unpackaged_production_units'].unique()"
   ]
  },
  {
   "cell_type": "code",
   "execution_count": 44,
   "metadata": {},
   "outputs": [],
   "source": [
    "#replace all non numbers with nan\n",
    "\n",
    "df.replace(\"n/a\\xa0/ n/d\", np.nan, regex=True, inplace = True)"
   ]
  },
  {
   "cell_type": "code",
   "execution_count": 45,
   "metadata": {},
   "outputs": [
    {
     "data": {
      "text/plain": [
       "array([nan, '2576671', '2353129', '2542479', '2747881', '2318173',\n",
       "       '2706760', '2753562', '3070596', '3194625', '2867413', '2288027',\n",
       "       '2574056', '2336037', '1965223', '2366696', '2211123', '2319803',\n",
       "       '2566764', '2584721', '2953240', '3480780', '2809211', '2527133',\n",
       "       '2535927', '2422372', '2683017', '2527553', '2296174', '2422900',\n",
       "       '2595971', '1419889', '1274336', '1470283', '1481252', '1434562',\n",
       "       '1712330', '1749090', '1647312', '1770954', '1955526', '1719068',\n",
       "       '1587402', '1693769', '1171934', '1252196', '1582537', '1656371',\n",
       "       '1780444', '1706217', '1834527', '1930978', '2417086', '2326451',\n",
       "       '2175796', '1777893', '1871755', '1988492', '1404377', '1510040',\n",
       "       '1510306'], dtype=object)"
      ]
     },
     "execution_count": 45,
     "metadata": {},
     "output_type": "execute_result"
    }
   ],
   "source": [
    "df['unpackaged_production_units'].unique()"
   ]
  },
  {
   "cell_type": "code",
   "execution_count": 50,
   "metadata": {},
   "outputs": [],
   "source": [
    "#correct data types\n",
    "def dtype_int(df, features):\n",
    "    \"\"\"function to convert object dtype to int\n",
    "    input: features is a list\"\"\"\n",
    "    for feature in features:  \n",
    "        try:\n",
    "            df[feature] = df[feature].fillna(0).astype('int')\n",
    "        except:\n",
    "            print(feature)\n",
    "\n",
    "dtype_int(df, feature_list)"
   ]
  },
  {
   "cell_type": "code",
   "execution_count": 51,
   "metadata": {},
   "outputs": [
    {
     "data": {
      "text/plain": [
       "year_-_month                                                            object\n",
       "product_type                                                            object\n",
       "unpackaged_production_units                                              int32\n",
       "unpackaged_inventory_units                                               int32\n",
       "packaged_production_units                                                int32\n",
       "packaged_inventory_units_-_federal_licence_holders                       int32\n",
       "packaged_inventory_units_-_provincial_distributors_and_retailers         int32\n",
       "sales_units_-_medical                                                    int32\n",
       "sales_units_-_non-medical                                                int32\n",
       "unpackaged_production_kilograms                                          int32\n",
       "unpackaged_inventory_kilograms                                           int32\n",
       "packaged_production_kilograms                                            int32\n",
       "packaged_inventory_kilograms_-_federal_licence_holders                   int32\n",
       "packaged_inventory_kilograms_-_provincial_distributors_and_retailers     int32\n",
       "sales_kilograms_-_medical                                                int32\n",
       "sales_kilograms_-_non-medical                                            int32\n",
       "dtype: object"
      ]
     },
     "execution_count": 51,
     "metadata": {},
     "output_type": "execute_result"
    }
   ],
   "source": [
    "df.dtypes"
   ]
  },
  {
   "cell_type": "code",
   "execution_count": 52,
   "metadata": {},
   "outputs": [],
   "source": [
    "# Convert start_date to datetime format\n",
    "df['year_-_month'] = pd.to_datetime(df['year_-_month']) "
   ]
  },
  {
   "cell_type": "code",
   "execution_count": 53,
   "metadata": {},
   "outputs": [
    {
     "data": {
      "text/plain": [
       "<AxesSubplot:xlabel='year_-_month', ylabel='sales_units_-_medical'>"
      ]
     },
     "execution_count": 53,
     "metadata": {},
     "output_type": "execute_result"
    },
    {
     "data": {
      "image/png": "[encoded data removed]",
      "text/plain": [
       "<Figure size 720x432 with 1 Axes>"
      ]
     },
     "metadata": {
      "needs_background": "light"
     },
     "output_type": "display_data"
    }
   ],
   "source": [
    "#Plot\n",
    "sns.set(style=\"whitegrid\")\n",
    "\n",
    "plt.figure(figsize=(10,6))\n",
    "sns.scatterplot(data = df, x = \"year_-_month\", y = \"sales_units_-_medical\")"
   ]
  },
  {
   "cell_type": "code",
   "execution_count": null,
   "metadata": {},
   "outputs": [],
   "source": [
    "#frequency plots\n",
    "fig,axs = plt.subplots(7,2, figsize = (20,10))\n",
    "\n",
    "sns.histplot(data=df, x='unpackaged_production_units', kde=True, color=\"skyblue\", ax=axs[0, 0]).set(title='Elevation Distribution', xlabel='Elevation')\n",
    "\n",
    "\n",
    "fig.tight_layout()"
   ]
  },
  {
   "cell_type": "code",
   "execution_count": 56,
   "metadata": {},
   "outputs": [
    {
     "data": {
      "text/plain": [
       "14"
      ]
     },
     "execution_count": 56,
     "metadata": {},
     "output_type": "execute_result"
    }
   ],
   "source": [
    "len(feature_list)"
   ]
  },
  {
   "cell_type": "code",
   "execution_count": null,
   "metadata": {},
   "outputs": [],
   "source": [
    "#create report,\n",
    "       'unpackaged_inventory_units', 'packaged_production_units',\n",
    "       'packaged_inventory_units_-_federal_licence_holders',\n",
    "       'packaged_inventory_units_-_provincial_distributors_and_retailers',\n",
    "       'sales_units_-_medical', 'sales_units_-_non-medical',\n",
    "       'unpackaged_production_kilograms', 'unpackaged_inventory_kilograms',\n",
    "       'packaged_production_kilograms',\n",
    "       'packaged_inventory_kilograms_-_federal_licence_holders',\n",
    "       'packaged_inventory_kilograms_-_provincial_distributors_and_retailers',\n",
    "       'sales_kilograms_-_medical', 'sales_kilograms_-_non-medical'"
   ]
  }
 ],
 "metadata": {
  "kernelspec": {
   "display_name": "lighthouse_env",
   "language": "python",
   "name": "lighthouse_env"
  },
  "language_info": {
   "codemirror_mode": {
    "name": "ipython",
    "version": 3
   },
   "file_extension": ".py",
   "mimetype": "text/x-python",
   "name": "python",
   "nbconvert_exporter": "python",
   "pygments_lexer": "ipython3",
   "version": "3.9.13"
  },
  "orig_nbformat": 4,
  "vscode": {
   "interpreter": {
    "hash": "c162f94018e0489db0c71872dfbb0f81bda5a411db10e73a44ff46fdbecffe2c"
   }
  }
 },
 "nbformat": 4,
 "nbformat_minor": 2
}
